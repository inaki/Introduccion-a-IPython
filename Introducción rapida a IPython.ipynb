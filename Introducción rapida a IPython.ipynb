{
 "metadata": {
  "name": "Introducci\u00f3n rapida a IPython"
 }, 
 "nbformat": 2, 
 "worksheets": [
  {
   "cells": [
    {
     "cell_type": "markdown", 
     "source": [
      "<H1> Una Introducci\u00f3n r\u00e1pida a IPython </H1>"
     ]
    }, 
    {
     "cell_type": "markdown", 
     "source": [
      "<H2> Que es IPython? </H2>"
     ]
    }, 
    {
     "cell_type": "markdown", 
     "source": [
      "IPython es un _shell_ interactivo de Python. Empezado en 2001 por Ferando Perez, IPython se ha convertido en una de las herramientas mas importantes para computaci\u00f3n", 
      "cient\u00edfica en Python. Ofrece varias herramientas para escribir c\u00f3digo y facilitar an\u00e1lisis de datos."
     ]
    }, 
    {
     "cell_type": "markdown", 
     "source": [
      "<H2> Que hace especial a IPython? </H2>"
     ]
    }, 
    {
     "cell_type": "markdown", 
     "source": [
      "El IPython shell tiene varias ventajas sobre el shell est\u00e1ndar de Python. Estas son:", 
      "", 
      "- Introspecci\u00f3n mejorada.", 
      "", 
      "- Pretty Printing", 
      "", 
      "- Syntax highlighting", 
      "", 
      "- Completaci\u00f3n por tab", 
      "", 
      "- Integraci\u00f3n al systema operativo", 
      "", 
      "- Una libreta interactiva por medio del browser (IPython Notebook) que provee un formato que es f\u00e1cil de compartir y de utilizar en software de control de versiones", 
      "", 
      "- Provee mas informaci\u00f3n sobre errores que el shell est\u00e1ndar de Python", 
      "", 
      "- Capacidad para manejar texto v\u00eda Markdown o HTML", 
      "", 
      "- Capacidad para multiples lenguajes (Ruby, Perl, Bash, R, entere otros)", 
      "", 
      "- Capacidad para computaci\u00f3n en paralelo."
     ]
    }, 
    {
     "cell_type": "markdown", 
     "source": [
      "<H2> C\u00f3mo usar IPython? </H2>"
     ]
    }, 
    {
     "cell_type": "markdown", 
     "source": [
      "<H3> IPython shell </H3>"
     ]
    }, 
    {
     "cell_type": "markdown", 
     "source": [
      "- Ejecuta ipython", 
      "- Funciona como el _Notebook_ pero no puedes guardar tu trabjao y compartirlo. (Al menos que uses %logging, busca abajo!)"
     ]
    }, 
    {
     "cell_type": "markdown", 
     "source": [
      "<H3> Qt shell </H3>"
     ]
    }, 
    {
     "cell_type": "markdown", 
     "source": [
      "- Ejecuta ipython qtconsole ", 
      "- Es un GUI console.", 
      "- Ejecuta ipython qtconsole --pylab=inline para generar graficas en la misma ventana."
     ]
    }, 
    {
     "cell_type": "markdown", 
     "source": [
      "<H3> IPython Notebook </H3>"
     ]
    }, 
    {
     "cell_type": "markdown", 
     "source": [
      "- Ejecuta ipython notebook", 
      "- Una celda contiene c\u00f3digo o texto. Para ejecutar c\u00f3digo, presiona Ctrl+Enter o Ctrl+Return", 
      "- Una vez ejecutada una celda, las variables o funciones declaradas persisten para las siguientes celdas.", 
      "- Quieres hacer graficas con el IPython notebook? Ejecuta el comando ipython notebook --pylab=inline para hacerlo.", 
      "- Acuerdate de guardar!", 
      "- Necesitas mas ayuda? En una celda corre %quickref"
     ]
    }, 
    {
     "cell_type": "code", 
     "collapsed": true, 
     "input": [
      "%quickref"
     ], 
     "language": "python", 
     "outputs": [], 
     "prompt_number": 21
    }, 
    {
     "cell_type": "markdown", 
     "source": [
      "<H2> Tab Completion </H2>"
     ]
    }, 
    {
     "cell_type": "markdown", 
     "source": [
      "Busca todos las variables, objetos y funciones en el _namespace_ actual"
     ]
    }, 
    {
     "cell_type": "code", 
     "collapsed": true, 
     "input": [
      "#Declaro la variable i", 
      "i = 0"
     ], 
     "language": "python", 
     "outputs": [], 
     "prompt_number": 1
    }, 
    {
     "cell_type": "code", 
     "collapsed": true, 
     "input": [
      "#Marca tab despu\u00e9s de la i. Busca todos las variables, objetos y funciones en el namespace actual", 
      "#i<Tab>", 
      "i"
     ], 
     "language": "python", 
     "outputs": []
    }, 
    {
     "cell_type": "code", 
     "collapsed": true, 
     "input": [
      "#Marca tab despu\u00e9s del punto. Te dira todos los metodos del objeto. Sirve para funciones, modulos o comandos del sistema operativo", 
      "#i.<Tab.", 
      "i."
     ], 
     "language": "python", 
     "outputs": []
    }, 
    {
     "cell_type": "code", 
     "collapsed": false, 
     "input": [
      "def hello_world(s):", 
      "    \"\"\"Funci\u00f3n simple\"\"\"", 
      "    print ('Hola Mundo y %s!') % s", 
      "    ", 
      "hello_world('Ana')"
     ], 
     "language": "python", 
     "outputs": [
      {
       "output_type": "stream", 
       "stream": "stdout", 
       "text": [
        "Hola Mundo y Ana!"
       ]
      }
     ], 
     "prompt_number": 22
    }, 
    {
     "cell_type": "code", 
     "collapsed": true, 
     "input": [
      "hello_world."
     ], 
     "language": "python", 
     "outputs": []
    }, 
    {
     "cell_type": "code", 
     "collapsed": true, 
     "input": [
      "#m\u00f3dulo de manejo de fechas/tiempo en Python", 
      "import datetime"
     ], 
     "language": "python", 
     "outputs": [], 
     "prompt_number": 10
    }, 
    {
     "cell_type": "code", 
     "collapsed": true, 
     "input": [
      "datetime."
     ], 
     "language": "python", 
     "outputs": []
    }, 
    {
     "cell_type": "code", 
     "collapsed": true, 
     "input": [
      "#Funciona tambi\u00e9n para el sistema operativo. Debe funcionar en Windows y Bash.", 
      "!cd"
     ], 
     "language": "python", 
     "outputs": []
    }, 
    {
     "cell_type": "markdown", 
     "source": [
      "<H2> Introspecci\u00f3n </H2>"
     ]
    }, 
    {
     "cell_type": "markdown", 
     "source": [
      "Introspecci\u00f3n es uno de las mejores carateristicas de Python. El lenguage puede describir casi todo de si mismo. En IPython esta caracter\u00edstica es mas avanzada.", 
      "", 
      "- '?' te describir\u00e1 el objeto, funci\u00f3n, modulo o comando del sistema operativo", 
      "- '??' va mas all\u00e1: si hay c\u00f3digo para la funci\u00f3n de la regresa.", 
      "- Marca la orilla de la ventana para cerrarla"
     ]
    }, 
    {
     "cell_type": "code", 
     "collapsed": true, 
     "input": [
      "#Con la variable i ya declarada, se escribe el '?' al lado. Te describira el objeto.", 
      "i?"
     ], 
     "language": "python", 
     "outputs": [], 
     "prompt_number": 13
    }, 
    {
     "cell_type": "code", 
     "collapsed": true, 
     "input": [
      "#Con la funci\u00f3n hello_world ya declarada", 
      "hello_world?"
     ], 
     "language": "python", 
     "outputs": [], 
     "prompt_number": 15
    }, 
    {
     "cell_type": "code", 
     "collapsed": true, 
     "input": [
      "#Trae el c\u00f3digo", 
      "hello_world??"
     ], 
     "language": "python", 
     "outputs": [], 
     "prompt_number": 16
    }, 
    {
     "cell_type": "code", 
     "collapsed": true, 
     "input": [
      "#Info para un m\u00f3dulo", 
      "datetime?"
     ], 
     "language": "python", 
     "outputs": [], 
     "prompt_number": 25
    }, 
    {
     "cell_type": "code", 
     "collapsed": true, 
     "input": [
      "#Funciona con el sistema operativo tambi\u00e9n", 
      "!cd?"
     ], 
     "language": "python", 
     "outputs": [], 
     "prompt_number": 24
    }, 
    {
     "cell_type": "markdown", 
     "source": [
      "<H2> _Magic Commands_ </H2>"
     ]
    }, 
    {
     "cell_type": "markdown", 
     "source": [
      "Son intrucciones especiales en IPython que son atajos para tareas comunes. Todos las instrucciones comienzan con el %."
     ]
    }, 
    {
     "cell_type": "code", 
     "collapsed": true, 
     "input": [
      "#Para mas informaci\u00f3n, ejecuta esta celda", 
      "%magic"
     ], 
     "language": "python", 
     "outputs": [], 
     "prompt_number": 26
    }, 
    {
     "cell_type": "markdown", 
     "source": [
      "Algunos comandos notables:", 
      "", 
      "- %run: permite ejecutar un programa. Entre sus par\u00e1metros hay para ejecutar un programa con el debugger de Python (pdb). Luego de ejecutar, se tiene acceso a todo lo que ", 
      "estaba en el programa.", 
      "", 
      "- %timeit: cuanto tiempo tomo ejecutar una funci\u00f3n", 
      "", 
      "- %debug: luego de una excepci\u00f3n, entrar %debug inmediatamente te lleva la excepci\u00f3n con mas informaci\u00f3n de lo que te dar\u00eda el _shell_ est\u00e1ndar. No puede correrse en el ", 
      "_Notebook_, solamente en el IPython _shell_.", 
      "", 
      "- %prun: _profiling_ para encontrar donde en el c\u00f3digo se pasa el mayor tiempo.", 
      "", 
      "- Introspecci\u00f3n funciona con _magic commands_! Intenta %run?."
     ]
    }, 
    {
     "cell_type": "code", 
     "collapsed": true, 
     "input": [
      "%run?"
     ], 
     "language": "python", 
     "outputs": [], 
     "prompt_number": 20
    }, 
    {
     "cell_type": "markdown", 
     "source": [
      "<H2> Conclusi\u00f3n </H2>"
     ]
    }, 
    {
     "cell_type": "markdown", 
     "source": [
      "IPython hace desarrollar, probar, guardar y compartir c\u00f3digo mucho mas f\u00e1cil. Une varias librer\u00edas (cient\u00edficas como numpy y matplotlib; de desarrollo como pdb y CProfile) ", 
      "y hace su uso intuitivo. Todo el ecosistema de IPython hace mucho mas de lo descrito aqu\u00ed (ej: computaci\u00f3n en paralelo) pero espero que esta introducci\u00f3n ", 
      "r\u00e1pida los motive a aprender mas sobre el."
     ]
    }, 
    {
     "cell_type": "markdown", 
     "source": [
      "<H3> Algunos Recursos </H3>"
     ]
    }, 
    {
     "cell_type": "markdown", 
     "source": [
      "- [P\u00e1gina principal de IPython](http://ipython.org/)", 
      "- [Para principiantes](http://www.pythonforbeginners.com/)", 
      "- [El fundador de IPython, Fernando Perez, hablando de la programaci\u00f3n en las ciencias](http://www.youtube.com/watch?feature=player_embedded&v=F4rFuIb1Ie4)"
     ]
    }
   ]
  }
 ]
}